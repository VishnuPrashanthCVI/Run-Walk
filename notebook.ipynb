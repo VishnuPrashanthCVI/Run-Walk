{
  "cells": [
    {
      "metadata": {
        "_cell_guid": "124fd69b-9657-4de7-8435-2f044c2617ab",
        "_uuid": "f21099169cb6ebaaf55b2456d29c4388d4c76c57"
      },
      "cell_type": "markdown",
      "source": "### Run or Walk Analysis using Decision Tree & Random Forest"
    },
    {
      "metadata": {
        "_cell_guid": "5bb9a1d3-cf1b-4f18-839c-bb0a2f14f2a5",
        "_uuid": "f8286e659e196dbf3cf1b7f3c2322be230276657",
        "collapsed": true,
        "trusted": false
      },
      "cell_type": "code",
      "source": "#Importing necessary libraries\nimport pandas as pd\nfrom sklearn import tree\nfrom sklearn import metrics\nimport numpy as np\nimport matplotlib.pyplot as plt\n% matplotlib inline",
      "execution_count": null,
      "outputs": []
    },
    {
      "metadata": {
        "_cell_guid": "8e8dd671-adc7-41b8-96c2-f35eca85ffbc",
        "_uuid": "3d0c34e2bf60a3a77945d7b29fe6b99ba1d08d3d",
        "collapsed": true,
        "trusted": false
      },
      "cell_type": "code",
      "source": "#Reading the files\ndataset = pd.read_csv(\"../input/dataset.csv\", parse_dates=[['date', 'time']])",
      "execution_count": null,
      "outputs": []
    },
    {
      "metadata": {
        "_cell_guid": "de3f0877-cd30-4867-8822-a03c7594e70d",
        "_uuid": "3dd305a2dbeae717dd635bf22740d01f9a0e0776",
        "collapsed": true,
        "trusted": false
      },
      "cell_type": "code",
      "source": "# Checking the data types\ndataset.info()",
      "execution_count": null,
      "outputs": []
    },
    {
      "metadata": {
        "_cell_guid": "2a6b8dea-2e90-4a85-94fb-784b5d5cf362",
        "_uuid": "38b546cc1e92fcb157255cc015b719c96b35bd7c",
        "collapsed": true,
        "trusted": false
      },
      "cell_type": "code",
      "source": "#Shape of dataset\ndataset.shape",
      "execution_count": null,
      "outputs": []
    },
    {
      "metadata": {
        "_cell_guid": "e67d7c76-bf63-4dd9-ba2d-a13b60878760",
        "_uuid": "45b909c1d9559fed0dafeeb148c06b05d1dd954a",
        "collapsed": true,
        "trusted": false
      },
      "cell_type": "code",
      "source": "#checking null values\ndataset.isnull().sum()",
      "execution_count": null,
      "outputs": []
    },
    {
      "metadata": {
        "_cell_guid": "03833364-ebca-4c62-85a9-db50e6641189",
        "_uuid": "95d7f6c004c33ef338f76b4895283f73512b1ac1",
        "collapsed": true,
        "trusted": false
      },
      "cell_type": "code",
      "source": "#Viewing the top 5 records\ndataset.head()",
      "execution_count": null,
      "outputs": []
    },
    {
      "metadata": {
        "_cell_guid": "f0d9d3ae-d63d-425e-a790-2da9bd5f2894",
        "_uuid": "0c74bb51223236e06f2e5a469e09d2675209b5be",
        "collapsed": true,
        "trusted": false
      },
      "cell_type": "code",
      "source": "#Removing the username\ndataset.drop(dataset.columns[1], axis=1, inplace=True)",
      "execution_count": null,
      "outputs": []
    },
    {
      "metadata": {
        "_cell_guid": "a96bfd5c-c9ce-4882-b1a1-c7c6035b888a",
        "_uuid": "9504182ce70f8a2ade6eb1ef0e83d2c1ad5ee29e",
        "collapsed": true,
        "trusted": false
      },
      "cell_type": "code",
      "source": "#Setting date and time as index\ndataset = dataset.set_index('date_time')\ndataset.head()",
      "execution_count": null,
      "outputs": []
    },
    {
      "metadata": {
        "_cell_guid": "f55356c2-b999-4a20-bb25-17bbddcacddb",
        "_uuid": "991380973e50b615726de3fb7ab85f0c4f7075b3",
        "collapsed": true,
        "trusted": false
      },
      "cell_type": "code",
      "source": "#Checking corelation of Activity with other columns\ndataset.corr()['activity']",
      "execution_count": null,
      "outputs": []
    },
    {
      "metadata": {
        "_cell_guid": "d4ef75ce-daac-49a4-8bbc-20535fc89260",
        "_uuid": "879a983c646a2ff9eee562c659d880b5b129926c",
        "collapsed": true,
        "trusted": false
      },
      "cell_type": "code",
      "source": "# Defining x and y variables\ncolumns = ['wrist', 'acceleration_x','acceleration_y', 'acceleration_z', 'gyro_x', 'gyro_y','gyro_z']\nx = dataset[list(columns)].values\ny = dataset[\"activity\"].values",
      "execution_count": null,
      "outputs": []
    },
    {
      "metadata": {
        "_cell_guid": "733eb01d-4993-4ba1-b317-6c1b4f54b59d",
        "_uuid": "9203767e58d877c4250c7a62773d08458a2957bd",
        "collapsed": true,
        "trusted": false
      },
      "cell_type": "code",
      "source": "#Splitting data into training and test set\nfrom sklearn.model_selection import train_test_split\nx_train, x_test, y_train, y_test = train_test_split(x, y, test_size = 0.25, random_state = 123)",
      "execution_count": null,
      "outputs": []
    },
    {
      "metadata": {
        "_cell_guid": "444df09f-8bf5-4b3c-83dc-5b747c624c49",
        "_uuid": "268a9276feb66281b318cff282fe875724662b49"
      },
      "cell_type": "markdown",
      "source": "### Decision Tree"
    },
    {
      "metadata": {
        "_cell_guid": "9ee3643a-8bd7-4441-b253-adcdc5ae818d",
        "_uuid": "9c9641ede4af9894a0070f3ed28b855133bcc39a",
        "collapsed": true,
        "trusted": false
      },
      "cell_type": "code",
      "source": "#Fitting classifier to training set\nfrom sklearn.tree import DecisionTreeClassifier\nclassifier = DecisionTreeClassifier(criterion=\"entropy\", max_depth=3, random_state= 123)\nclassifier = classifier.fit(x_train, y_train)",
      "execution_count": null,
      "outputs": []
    },
    {
      "metadata": {
        "_cell_guid": "7f2ebc71-f25b-456b-8d7b-1fd0b4cdd2e6",
        "_uuid": "0b895529eabaf96d753028beac53965f5215ab68",
        "collapsed": true,
        "trusted": false
      },
      "cell_type": "code",
      "source": "#predicting test test results\ny_pred = classifier.predict(x_test)",
      "execution_count": null,
      "outputs": []
    },
    {
      "metadata": {
        "_cell_guid": "4fed61d4-551e-48b6-a088-1b81c6b6fb46",
        "_uuid": "4d6dfc3ae57d6bc38a6d1378f14a040ff0c3c503",
        "collapsed": true,
        "trusted": false
      },
      "cell_type": "code",
      "source": "#Confusion Matrix\ncm = metrics.confusion_matrix(y_test, y_pred)\ncm",
      "execution_count": null,
      "outputs": []
    },
    {
      "metadata": {
        "_cell_guid": "2580321f-b7db-410a-acf8-4edbe58900f9",
        "_uuid": "641d3aedabae1fe10c784c2a58bb8352b96f80f5",
        "collapsed": true,
        "trusted": false
      },
      "cell_type": "code",
      "source": "#Plotting Confusion Matrix\ndef plot_confusion_matrix(cm, title='Confusion matrix', cmap=plt.cm.gray_r):\n    plt.matshow(cm, cmap=cmap) # imshow\n    plt.title('Confusion Matrix')\n    plt.colorbar()\n    plt.ylabel('Actual')\n    plt.xlabel('Predicted')\n\nplot_confusion_matrix(cm)",
      "execution_count": null,
      "outputs": []
    },
    {
      "metadata": {
        "_cell_guid": "b3e99bd2-b442-448b-9ffb-07996764c184",
        "_uuid": "4186f1f673f10f3763912726574ae20e5cbf95d3",
        "collapsed": true,
        "trusted": false
      },
      "cell_type": "code",
      "source": "#Print the score of the new decison tree\nprint(classifier.score(x_train, y_train))",
      "execution_count": null,
      "outputs": []
    },
    {
      "metadata": {
        "_cell_guid": "7fc7ca7a-4b9a-4481-b112-30932d985133",
        "_uuid": "359b07bffe321499b754b27668e4c79103dacbb3",
        "collapsed": true,
        "trusted": false
      },
      "cell_type": "code",
      "source": "#Applying k-fold cross validation\nfrom sklearn.model_selection import cross_val_score\naccuracies = cross_val_score(classifier, x_train, y_train, cv=10)\nprint(\"Cross Validation score : \" + str(accuracies))\nprint(\"Cross Validation Mean score : \" + str(accuracies.mean()))",
      "execution_count": null,
      "outputs": []
    },
    {
      "metadata": {
        "_cell_guid": "d5a43af9-070d-4f79-a3e2-63b447a72ce7",
        "_uuid": "92b4111ebdfe29ac44da81aa42e1a456b972a301"
      },
      "cell_type": "markdown",
      "source": "### Random Forest"
    },
    {
      "metadata": {
        "_cell_guid": "360dc5f6-ef52-4c34-9681-ced6c6b32772",
        "_uuid": "591a7ca2db4014a38aa2e7bf7a30599f53b6c56d",
        "collapsed": true,
        "trusted": false
      },
      "cell_type": "code",
      "source": "#Fitting classifier to training set\nfrom sklearn.ensemble import RandomForestClassifier\n\nclassifier1 = RandomForestClassifier(max_depth = 10, min_samples_split=2, n_estimators = 100, random_state = 123)\nclassifier1.fit(x_train, y_train)",
      "execution_count": null,
      "outputs": []
    },
    {
      "metadata": {
        "_cell_guid": "fc26e2ed-ffe5-404a-9105-a0a4cd6be0fb",
        "_uuid": "13d37dec0d320a245950b89cb591e00d256bb0ef",
        "collapsed": true,
        "trusted": false
      },
      "cell_type": "code",
      "source": "#predicting test test results\ny_pred = classifier1.predict(x_test)",
      "execution_count": null,
      "outputs": []
    },
    {
      "metadata": {
        "_cell_guid": "082d8251-ef85-4f27-9f62-f039eb40f557",
        "_uuid": "116e3c971fcbb3df27fa707cbd2e215cb83c40e1",
        "collapsed": true,
        "trusted": false
      },
      "cell_type": "code",
      "source": "#Confusion Matrix\ncm = metrics.confusion_matrix(y_test, y_pred)\ncm",
      "execution_count": null,
      "outputs": []
    },
    {
      "metadata": {
        "_cell_guid": "06b8d194-d870-4ace-8089-3c3153a7bfca",
        "_uuid": "0331cefcb551a322a209d08e75251dc0ce85ed91",
        "collapsed": true,
        "trusted": false
      },
      "cell_type": "code",
      "source": "#Plotting Confusion Matrix\ndef plot_confusion_matrix(cm, title='Confusion matrix', cmap=plt.cm.gray_r):\n    plt.matshow(cm, cmap=cmap) # imshow\n    plt.title('Confusion Matrix')\n    plt.colorbar()\n    plt.ylabel('Actual')\n    plt.xlabel('Predicted')\n\nplot_confusion_matrix(cm)",
      "execution_count": null,
      "outputs": []
    },
    {
      "metadata": {
        "_cell_guid": "5418c846-6b28-436f-9f53-2b87c5a04bb3",
        "_uuid": "119a758fbfb5eaffd631c22b4bc50d6568e2db9c",
        "collapsed": true,
        "trusted": false
      },
      "cell_type": "code",
      "source": "# Print the score of the fitted random forest\nprint(classifier1.score(x_train, y_train))",
      "execution_count": null,
      "outputs": []
    },
    {
      "metadata": {
        "_cell_guid": "0717ef60-8741-47fc-91ad-79392766035d",
        "_uuid": "e61bd4c5e92c0bc01a81d9efb8019649da97a5d9",
        "collapsed": true,
        "trusted": false
      },
      "cell_type": "code",
      "source": "#Applying k-fold cross validation\naccuracies = cross_val_score(classifier1, x_train, y_train, cv=10)\nprint(\"Cross Validation score : \" + str(accuracies))\nprint(\"Cross Validation Mean score : \" + str(accuracies.mean()))",
      "execution_count": null,
      "outputs": []
    },
    {
      "metadata": {
        "_cell_guid": "215c53a0-3bf0-417c-9dd4-777c4278999e",
        "_uuid": "f475da53a30de517e6b2d9659041dc86dbc621dc",
        "collapsed": true,
        "trusted": false
      },
      "cell_type": "code",
      "source": "#Roc curve on predicted data\nfpr, tpr, _ = metrics.roc_curve(y_test, y_pred)\nroc_auc = metrics.auc(fpr, tpr)\nplt.title('Receiver Operating Characteristic')\nplt.plot(fpr, tpr, 'b',\nlabel='AUC = %0.2f'% roc_auc)\nplt.legend(loc='lower right')\nplt.plot([0,1],[0,1],'r--')\nplt.xlim([-0.1,1.2])\nplt.ylim([-0.1,1.2])\nplt.ylabel('True Positive Rate')\nplt.xlabel('False Positive Rate')\nplt.show()",
      "execution_count": null,
      "outputs": []
    },
    {
      "metadata": {
        "_cell_guid": "588f1251-0dea-4e11-aeb5-650dc4741e4f",
        "_uuid": "fa25585746ffd7e321c0e82ee882b6baa4f12465",
        "collapsed": true,
        "trusted": false
      },
      "cell_type": "code",
      "source": "# ROC curve on Predicted probabilities\npred_proba = classifier1.predict_proba(x_test)\nfpr, tpr, _ = metrics.roc_curve(y_test, pred_proba[:,1])\nroc_auc = metrics.auc(fpr, tpr)\nplt.title('Receiver Operating Characteristic')\nplt.plot(fpr, tpr, 'b',\nlabel='AUC = %0.2f'% roc_auc)\nplt.legend(loc='lower right')\nplt.plot([0,1],[0,1],'r--')\nplt.xlim([-0.1,1.2])\nplt.ylim([-0.1,1.2])\nplt.ylabel('True Positive Rate')\nplt.xlabel('False Positive Rate')\nplt.show()",
      "execution_count": null,
      "outputs": []
    },
    {
      "metadata": {
        "_cell_guid": "d1f0c731-b43d-4962-b118-850d16d15e02",
        "_uuid": "1c241c63a0b9c667ee3b9e1626662e1fa50967f1",
        "collapsed": true,
        "trusted": false
      },
      "cell_type": "code",
      "source": "",
      "execution_count": null,
      "outputs": []
    }
  ],
  "metadata": {
    "kernelspec": {
      "display_name": "Python 3",
      "language": "python",
      "name": "python3"
    },
    "language_info": {
      "codemirror_mode": {
        "name": "ipython",
        "version": 3
      },
      "mimetype": "text/x-python",
      "pygments_lexer": "ipython3",
      "version": "3.6.3",
      "name": "python",
      "file_extension": ".py",
      "nbconvert_exporter": "python"
    }
  },
  "nbformat": 4,
  "nbformat_minor": 1
}